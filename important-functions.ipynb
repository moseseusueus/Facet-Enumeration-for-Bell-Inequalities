{
 "cells": [
  {
   "attachments": {},
   "cell_type": "markdown",
   "id": "cea4ede0",
   "metadata": {},
   "source": [
    "### Importing libraries"
   ]
  },
  {
   "cell_type": "code",
   "execution_count": 42,
   "id": "438c3140",
   "metadata": {},
   "outputs": [],
   "source": [
    "import numpy as np"
   ]
  },
  {
   "attachments": {},
   "cell_type": "markdown",
   "id": "0aed22bd",
   "metadata": {},
   "source": [
    "#### The function `digit`\n",
    "\n",
    "This function returns the i-th digit of a specific number base (default is 2, which is binary) given a number n in the decimal base."
   ]
  },
  {
   "cell_type": "code",
   "execution_count": 43,
   "id": "0f6b4d92",
   "metadata": {},
   "outputs": [],
   "source": [
    "def digit(n, i, base=2, pad = 0):\n",
    "    bstr = np.base_repr(n, base=base, padding=pad)\n",
    "    return int(bstr[-i-1])"
   ]
  },
  {
   "attachments": {},
   "cell_type": "markdown",
   "id": "72d46a2b",
   "metadata": {},
   "source": [
    "#### The function `generate_pvector`\n",
    "\n",
    "Generates the probability vectors given the number of inputs and outputs of a 2 players (parts) bell scenario."
   ]
  },
  {
   "cell_type": "code",
   "execution_count": 44,
   "id": "cc960340",
   "metadata": {},
   "outputs": [],
   "source": [
    "def generate_pvector(n_outputs, n_inputs):\n",
    "    plist = []\n",
    "    for i in range(n_outputs**n_inputs):\n",
    "        for j in range(n_outputs**n_inputs):\n",
    "            p = np.zeros((n_outputs, n_outputs, n_inputs, n_inputs), dtype='int')\n",
    "            for x in range(n_inputs):\n",
    "                for y in range(n_inputs):\n",
    "                    p[digit(i, x, base=n_outputs, pad=n_inputs), digit(j, y, base=n_outputs, pad=n_inputs), x, y] = 1\n",
    "            plist.append(p.flatten())\n",
    "    return np.unique(np.array(plist), axis = 0)"
   ]
  },
  {
   "attachments": {},
   "cell_type": "markdown",
   "id": "ae604a28",
   "metadata": {},
   "source": [
    "#### The function `save_pvector`\n",
    "\n",
    "Saves the pvector in the format specified (default is 'lrs' format) in a textfile. "
   ]
  },
  {
   "cell_type": "code",
   "execution_count": 45,
   "id": "c28860e3",
   "metadata": {},
   "outputs": [],
   "source": [
    "def save_pvector(pvector, filename: str, format = 'lrs'):\n",
    "    if(format == 'lrs'):\n",
    "        with open(filename + \".ine\", \"w\") as f:\n",
    "            n, m = pvector.shape\n",
    "            f.write(f\"chsh_vertex.ine\\nV-representation\\nbegin\\n{n} {m+1} rational\\n\")\n",
    "            for row in pvector:\n",
    "                f.write(\"1 \" + \" \".join([str(x) for x in row]) + \"\\n\")\n",
    "            f.write(\"end\")"
   ]
  },
  {
   "cell_type": "markdown",
   "id": "5ad622d6",
   "metadata": {},
   "source": [
    "#### The function `save_pvector_readmode`\n",
    "\n",
    "Saves the pvector in a readable mode as a textfile (.txt)."
   ]
  },
  {
   "cell_type": "code",
   "execution_count": 46,
   "id": "8a3903ee",
   "metadata": {},
   "outputs": [],
   "source": [
    "def save_pvector_readmode(pvector, filename: str, n_outputs, n_inputs):\n",
    "    with open(filename + \".txt\", \"w\") as f:\n",
    "        for a in range(n_outputs):\n",
    "                for b in range(n_outputs):\n",
    "                    for x in range(n_inputs):\n",
    "                        for y in range(n_inputs):\n",
    "                            f.write(f\"p({a}{b}|{x}{y}) \")\n",
    "        f.write(\"\\n\")\n",
    "        for row in pvector:\n",
    "            f.write(\"   \")\n",
    "            f.write(\"        \".join([str(x) for x in row]) + \"\\n\")"
   ]
  },
  {
   "cell_type": "markdown",
   "metadata": {},
   "source": [
    "#### The function `pvec_to_csv`\n",
    "\n",
    "Saves the pvector in a .csv file."
   ]
  },
  {
   "cell_type": "code",
   "execution_count": 52,
   "metadata": {},
   "outputs": [],
   "source": [
    "def pvec_to_csv(ine_filename:str, csv_filename: str, parameter = 4, parameter2 = -1):\n",
    "    with open(csv_filename + \".csv\", \"w\") as fcsv:\n",
    "        with open(ine_filename, \"r\") as f:\n",
    "            flines = f.readlines()\n",
    "            for line in flines[parameter:parameter2]:\n",
    "                text = line.replace(\" \", \",\")\n",
    "                text = text.replace(\",,\", \",\")\n",
    "                text = text[0:-1]\n",
    "                fcsv.write(text + \"\\n\")"
   ]
  },
  {
   "cell_type": "markdown",
   "metadata": {},
   "source": [
    "#### The function `facets_to_csv`\n",
    "\n",
    "Saves the facets in a .csv format."
   ]
  },
  {
   "cell_type": "code",
   "execution_count": 47,
   "id": "fccb0d28",
   "metadata": {},
   "outputs": [],
   "source": [
    "def facets_to_csv(ine_filename:str, csv_filename: str, parameter = 5, parameter2 = -6):\n",
    "    with open(csv_filename + \".csv\", \"w\") as fcsv:\n",
    "        with open(ine_filename, \"r\") as f:\n",
    "            flines = f.readlines()\n",
    "            for line in flines[parameter:parameter2]:\n",
    "                text = line.replace(\" \", \",\")\n",
    "                text = text.replace(\",,\", \",\")\n",
    "                text = text[1:-2]\n",
    "                fcsv.write(text + \"\\n\")"
   ]
  }
 ],
 "metadata": {
  "kernelspec": {
   "display_name": "Python 3 (ipykernel)",
   "language": "python",
   "name": "python3"
  },
  "language_info": {
   "codemirror_mode": {
    "name": "ipython",
    "version": 3
   },
   "file_extension": ".py",
   "mimetype": "text/x-python",
   "name": "python",
   "nbconvert_exporter": "python",
   "pygments_lexer": "ipython3",
   "version": "3.10.9"
  }
 },
 "nbformat": 4,
 "nbformat_minor": 5
}
