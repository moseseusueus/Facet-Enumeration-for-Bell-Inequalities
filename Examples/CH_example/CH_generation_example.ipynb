{
 "cells": [
  {
   "cell_type": "code",
   "execution_count": 3,
   "metadata": {},
   "outputs": [
    {
     "name": "stderr",
     "output_type": "stream",
     "text": [
      "c:\\Users\\Administrador\\anaconda3\\lib\\site-packages\\nbformat\\__init__.py:92: MissingIDFieldWarning: Code cell is missing an id field, this will become a hard error in future nbformat versions. You may want to use `normalize()` on your notebooks before validations (available since nbformat 5.1.4). Previous versions of nbformat are fixing this issue transparently, and will stop doing so in the future.\n",
      "  validate(nb)\n"
     ]
    }
   ],
   "source": [
    "%run ../../important-functions.ipynb"
   ]
  },
  {
   "cell_type": "markdown",
   "metadata": {},
   "source": [
    "#### The function `generate_ch_form`\n",
    "\n",
    "Generate the CH form probability vectors for the CHSH scenario."
   ]
  },
  {
   "cell_type": "code",
   "execution_count": null,
   "metadata": {},
   "outputs": [],
   "source": [
    "def generate_ch_form(pvector):\n",
    "    CH_list = []\n",
    "    for line_pvec in pvector:\n",
    "        CH_vec = np.zeros(8, dtype='int')\n",
    "        line_pvec_reshaped = np.reshape(line_pvec, (4,-1))\n",
    "        pa0x = np.array([line_pvec_reshaped[0][0] + line_pvec_reshaped[1][0], line_pvec_reshaped[0][2] + line_pvec_reshaped[1][2]])\n",
    "        py0b = np.array([line_pvec_reshaped[0][0] + line_pvec_reshaped[2][0], line_pvec_reshaped[0][1] + line_pvec_reshaped[2][1]])\n",
    "        CH_vec = np.concatenate((pa0x, py0b, line_pvec_reshaped[0][:]), axis = None)\n",
    "        CH_list.append(CH_vec)\n",
    "    return np.unique(np.array(CH_list), axis=0)"
   ]
  },
  {
   "cell_type": "markdown",
   "metadata": {},
   "source": [
    "And then:"
   ]
  },
  {
   "cell_type": "code",
   "execution_count": null,
   "metadata": {},
   "outputs": [],
   "source": [
    "pvec = generate_pvector(2,2)\n",
    "ch_form = generate_ch_form(pvec)\n",
    "save_pvector(chsh_correlators, \"CH_example\")"
   ]
  },
  {
   "cell_type": "markdown",
   "metadata": {},
   "source": [
    "After that, all you have to do is run the \".ine\" file in lrs environment.\n",
    "\n",
    "An example of how the inequalities could be read in lrs:\n",
    "\n",
    "* The coefficients can be entered as integers or rationals in the format x/y.\n",
    "  For example, the square centred at the origin with side length two has inequalities\n",
    "\n",
    "  $1 + x1 >= 0$      $1+ x2 \\geq 0$         $1-x 1 \\geq 0$           $1-x2 \\geq 0$\n",
    "\n",
    "  and would be represented by the input file:\n",
    "  ~~~\n",
    "  square\n",
    "  *centred square of side 2\n",
    "  H-representation\n",
    "  begin\n",
    "  4 3 rational\n",
    "  1 1 0\n",
    "  1 0 1\n",
    "  1 -1 0\n",
    "  1 0 -1\n",
    "  end\n",
    "  ~~~"
   ]
  }
 ],
 "metadata": {
  "kernelspec": {
   "display_name": "base",
   "language": "python",
   "name": "python3"
  },
  "language_info": {
   "codemirror_mode": {
    "name": "ipython",
    "version": 3
   },
   "file_extension": ".py",
   "mimetype": "text/x-python",
   "name": "python",
   "nbconvert_exporter": "python",
   "pygments_lexer": "ipython3",
   "version": "3.10.9"
  }
 },
 "nbformat": 4,
 "nbformat_minor": 2
}
